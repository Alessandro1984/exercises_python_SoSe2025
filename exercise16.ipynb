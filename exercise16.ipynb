{
 "cells": [
  {
   "cell_type": "code",
   "execution_count": 2,
   "id": "0e4eabe2-5b59-49fd-8230-bccc9eaf7f97",
   "metadata": {},
   "outputs": [],
   "source": [
    "import pandas as pd\n",
    "import matplotlib.pyplot as plt\n",
    "import seaborn as sns\n",
    "import plotly.express as px"
   ]
  },
  {
   "cell_type": "code",
   "execution_count": 3,
   "id": "3bfb89df-ed5f-4dae-beb4-9acb99d6a4ef",
   "metadata": {},
   "outputs": [],
   "source": [
    "url = \"https://www.alessandrobramucci.com/gapminder.csv\"\n",
    "\n",
    "df = pd.read_csv(url)\n",
    "\n",
    "df.to_csv(\"data/gapminder.csv\", sep = \",\", decimal = \".\")"
   ]
  },
  {
   "cell_type": "code",
   "execution_count": 6,
   "id": "7097e675-623f-4539-be94-ed09a40e5330",
   "metadata": {},
   "outputs": [
    {
     "data": {
      "text/plain": [
       "country       object\n",
       "continent     object\n",
       "year           int64\n",
       "lifeExp      float64\n",
       "pop            int64\n",
       "gdpPercap    float64\n",
       "dtype: object"
      ]
     },
     "execution_count": 6,
     "metadata": {},
     "output_type": "execute_result"
    }
   ],
   "source": [
    "df.dtypes"
   ]
  },
  {
   "cell_type": "code",
   "execution_count": 7,
   "id": "bf416ce2-5ed8-4a84-9b6e-645d314a8133",
   "metadata": {},
   "outputs": [
    {
     "data": {
      "text/plain": [
       "country      0\n",
       "continent    0\n",
       "year         0\n",
       "lifeExp      0\n",
       "pop          0\n",
       "gdpPercap    0\n",
       "dtype: int64"
      ]
     },
     "execution_count": 7,
     "metadata": {},
     "output_type": "execute_result"
    }
   ],
   "source": [
    "df.isna().sum()"
   ]
  },
  {
   "cell_type": "code",
   "execution_count": 8,
   "id": "e8ec00a8-a462-4a42-bd39-25ab5e9279a1",
   "metadata": {},
   "outputs": [
    {
     "name": "stdout",
     "output_type": "stream",
     "text": [
      "<class 'pandas.core.frame.DataFrame'>\n",
      "RangeIndex: 1704 entries, 0 to 1703\n",
      "Data columns (total 6 columns):\n",
      " #   Column     Non-Null Count  Dtype  \n",
      "---  ------     --------------  -----  \n",
      " 0   country    1704 non-null   object \n",
      " 1   continent  1704 non-null   object \n",
      " 2   year       1704 non-null   int64  \n",
      " 3   lifeExp    1704 non-null   float64\n",
      " 4   pop        1704 non-null   int64  \n",
      " 5   gdpPercap  1704 non-null   float64\n",
      "dtypes: float64(2), int64(2), object(2)\n",
      "memory usage: 80.0+ KB\n"
     ]
    }
   ],
   "source": [
    "df.info()"
   ]
  },
  {
   "cell_type": "code",
   "execution_count": 9,
   "id": "96709561-c684-42bd-98aa-df7d96c0e9a7",
   "metadata": {},
   "outputs": [
    {
     "data": {
      "text/plain": [
       "(1704, 6)"
      ]
     },
     "execution_count": 9,
     "metadata": {},
     "output_type": "execute_result"
    }
   ],
   "source": [
    "df.shape"
   ]
  },
  {
   "cell_type": "code",
   "execution_count": 13,
   "id": "a2e1ac8e-ef42-4d27-a281-04625c85840e",
   "metadata": {},
   "outputs": [
    {
     "data": {
      "text/plain": [
       "142"
      ]
     },
     "execution_count": 13,
     "metadata": {},
     "output_type": "execute_result"
    }
   ],
   "source": [
    "# Liste der Länder\n",
    "country_list = df['country'].unique()\n",
    "len(country_list)"
   ]
  },
  {
   "cell_type": "code",
   "execution_count": 12,
   "id": "68bbe09d-5668-41cc-a546-c9c7bf38b797",
   "metadata": {},
   "outputs": [
    {
     "data": {
      "text/plain": [
       "142"
      ]
     },
     "execution_count": 12,
     "metadata": {},
     "output_type": "execute_result"
    }
   ],
   "source": [
    "# Wie viele Länder?\n",
    "country_count = df['country'].nunique()\n",
    "country_count"
   ]
  },
  {
   "cell_type": "code",
   "execution_count": 14,
   "id": "a7f9878d-4ce5-4fce-abe5-055ae4f1eed3",
   "metadata": {},
   "outputs": [
    {
     "data": {
      "text/plain": [
       "country\n",
       "Afghanistan           12\n",
       "Albania               12\n",
       "Algeria               12\n",
       "Angola                12\n",
       "Argentina             12\n",
       "                      ..\n",
       "Vietnam               12\n",
       "West Bank and Gaza    12\n",
       "Yemen, Rep.           12\n",
       "Zambia                12\n",
       "Zimbabwe              12\n",
       "Name: year, Length: 142, dtype: int64"
      ]
     },
     "execution_count": 14,
     "metadata": {},
     "output_type": "execute_result"
    }
   ],
   "source": [
    "# Wie viele Jahre pro Land?\n",
    "years_count = df.groupby('country')['year'].count()\n",
    "years_count"
   ]
  },
  {
   "cell_type": "code",
   "execution_count": 15,
   "id": "d2d36b56-0a03-44cb-b6a8-182e5b7376d5",
   "metadata": {},
   "outputs": [
    {
     "data": {
      "text/plain": [
       "142"
      ]
     },
     "execution_count": 15,
     "metadata": {},
     "output_type": "execute_result"
    }
   ],
   "source": [
    "sum(years_count == 12)"
   ]
  },
  {
   "cell_type": "code",
   "execution_count": 16,
   "id": "c17371d8-cc75-4a2b-9d02-4b02f43f0714",
   "metadata": {},
   "outputs": [
    {
     "data": {
      "text/plain": [
       "1704"
      ]
     },
     "execution_count": 16,
     "metadata": {},
     "output_type": "execute_result"
    }
   ],
   "source": [
    "142 * 12"
   ]
  },
  {
   "cell_type": "code",
   "execution_count": 19,
   "id": "8e7f8f80-325f-482e-8ddb-63a209705f0c",
   "metadata": {},
   "outputs": [
    {
     "data": {
      "text/plain": [
       "continent\n",
       "Africa      52\n",
       "Americas    25\n",
       "Asia        33\n",
       "Europe      30\n",
       "Oceania      2\n",
       "Name: country, dtype: int64"
      ]
     },
     "execution_count": 19,
     "metadata": {},
     "output_type": "execute_result"
    }
   ],
   "source": [
    "# Wie viele Länder pro Kontinent (nur 2007)\n",
    "countries_bycont_2007 = df[df['year'] == 2007].groupby(['continent'])['country'].count()\n",
    "countries_bycont_2007"
   ]
  },
  {
   "cell_type": "code",
   "execution_count": 24,
   "id": "a864b3ea-6b8a-4445-bc61-e29033670cd4",
   "metadata": {},
   "outputs": [],
   "source": [
    "# Germany filter\n",
    "df_germany = df[df['country'] == 'Germany'].select_dtypes(include = 'number').reset_index(drop = True)\n",
    "#df_germany"
   ]
  },
  {
   "cell_type": "code",
   "execution_count": 25,
   "id": "546ee922-975e-4a76-8423-dc5e34ab4d43",
   "metadata": {},
   "outputs": [],
   "source": [
    "df_germany.to_csv('data/germany_gapminder.csv', sep = ',', decimal = '.')"
   ]
  },
  {
   "cell_type": "code",
   "execution_count": 28,
   "id": "10876e27-abd7-4ff2-ac77-6216128a26e4",
   "metadata": {},
   "outputs": [],
   "source": [
    "# Durchschnittswerte pro Land über Zeit\n",
    "df_mean = df.groupby('country')[['lifeExp', 'pop', 'gdpPercap']].mean()\n",
    "#df_mean"
   ]
  },
  {
   "cell_type": "code",
   "execution_count": 31,
   "id": "86b0b9e5-a503-43c1-8486-2b3f20a9a9b5",
   "metadata": {},
   "outputs": [
    {
     "data": {
      "text/html": [
       "<div>\n",
       "<style scoped>\n",
       "    .dataframe tbody tr th:only-of-type {\n",
       "        vertical-align: middle;\n",
       "    }\n",
       "\n",
       "    .dataframe tbody tr th {\n",
       "        vertical-align: top;\n",
       "    }\n",
       "\n",
       "    .dataframe thead th {\n",
       "        text-align: right;\n",
       "    }\n",
       "</style>\n",
       "<table border=\"1\" class=\"dataframe\">\n",
       "  <thead>\n",
       "    <tr style=\"text-align: right;\">\n",
       "      <th></th>\n",
       "      <th>lifeExp</th>\n",
       "      <th>pop</th>\n",
       "      <th>gdpPercap</th>\n",
       "      <th>Variable</th>\n",
       "    </tr>\n",
       "    <tr>\n",
       "      <th>continent</th>\n",
       "      <th></th>\n",
       "      <th></th>\n",
       "      <th></th>\n",
       "      <th></th>\n",
       "    </tr>\n",
       "  </thead>\n",
       "  <tbody>\n",
       "    <tr>\n",
       "      <th>Africa</th>\n",
       "      <td>48.865330</td>\n",
       "      <td>9.916003e+06</td>\n",
       "      <td>2193.754578</td>\n",
       "      <td>Mean</td>\n",
       "    </tr>\n",
       "    <tr>\n",
       "      <th>Americas</th>\n",
       "      <td>64.658737</td>\n",
       "      <td>2.450479e+07</td>\n",
       "      <td>7136.110356</td>\n",
       "      <td>Mean</td>\n",
       "    </tr>\n",
       "    <tr>\n",
       "      <th>Asia</th>\n",
       "      <td>60.064903</td>\n",
       "      <td>7.703872e+07</td>\n",
       "      <td>7902.150428</td>\n",
       "      <td>Mean</td>\n",
       "    </tr>\n",
       "    <tr>\n",
       "      <th>Europe</th>\n",
       "      <td>71.903686</td>\n",
       "      <td>1.716976e+07</td>\n",
       "      <td>14469.475533</td>\n",
       "      <td>Mean</td>\n",
       "    </tr>\n",
       "    <tr>\n",
       "      <th>Oceania</th>\n",
       "      <td>74.326208</td>\n",
       "      <td>8.874672e+06</td>\n",
       "      <td>18621.609223</td>\n",
       "      <td>Mean</td>\n",
       "    </tr>\n",
       "  </tbody>\n",
       "</table>\n",
       "</div>"
      ],
      "text/plain": [
       "             lifeExp           pop     gdpPercap Variable\n",
       "continent                                                \n",
       "Africa     48.865330  9.916003e+06   2193.754578     Mean\n",
       "Americas   64.658737  2.450479e+07   7136.110356     Mean\n",
       "Asia       60.064903  7.703872e+07   7902.150428     Mean\n",
       "Europe     71.903686  1.716976e+07  14469.475533     Mean\n",
       "Oceania    74.326208  8.874672e+06  18621.609223     Mean"
      ]
     },
     "execution_count": 31,
     "metadata": {},
     "output_type": "execute_result"
    }
   ],
   "source": [
    "df_mean = df.groupby('continent')[['lifeExp', 'pop', 'gdpPercap']].mean()\n",
    "df_mean['Variable'] = 'Mean'"
   ]
  },
  {
   "cell_type": "code",
   "execution_count": 33,
   "id": "f354e2c0-fdfb-45b9-9cf3-efff00aa7c22",
   "metadata": {},
   "outputs": [
    {
     "data": {
      "text/html": [
       "<div>\n",
       "<style scoped>\n",
       "    .dataframe tbody tr th:only-of-type {\n",
       "        vertical-align: middle;\n",
       "    }\n",
       "\n",
       "    .dataframe tbody tr th {\n",
       "        vertical-align: top;\n",
       "    }\n",
       "\n",
       "    .dataframe thead th {\n",
       "        text-align: right;\n",
       "    }\n",
       "</style>\n",
       "<table border=\"1\" class=\"dataframe\">\n",
       "  <thead>\n",
       "    <tr style=\"text-align: right;\">\n",
       "      <th></th>\n",
       "      <th>lifeExp</th>\n",
       "      <th>pop</th>\n",
       "      <th>gdpPercap</th>\n",
       "      <th>Variable</th>\n",
       "    </tr>\n",
       "    <tr>\n",
       "      <th>continent</th>\n",
       "      <th></th>\n",
       "      <th></th>\n",
       "      <th></th>\n",
       "      <th></th>\n",
       "    </tr>\n",
       "  </thead>\n",
       "  <tbody>\n",
       "    <tr>\n",
       "      <th>Africa</th>\n",
       "      <td>47.7920</td>\n",
       "      <td>4579311.0</td>\n",
       "      <td>1192.138217</td>\n",
       "      <td>Median</td>\n",
       "    </tr>\n",
       "    <tr>\n",
       "      <th>Americas</th>\n",
       "      <td>67.0480</td>\n",
       "      <td>6227510.0</td>\n",
       "      <td>5465.509853</td>\n",
       "      <td>Median</td>\n",
       "    </tr>\n",
       "    <tr>\n",
       "      <th>Asia</th>\n",
       "      <td>61.7915</td>\n",
       "      <td>14530830.5</td>\n",
       "      <td>2646.786844</td>\n",
       "      <td>Median</td>\n",
       "    </tr>\n",
       "    <tr>\n",
       "      <th>Europe</th>\n",
       "      <td>72.2410</td>\n",
       "      <td>8551125.0</td>\n",
       "      <td>12081.749115</td>\n",
       "      <td>Median</td>\n",
       "    </tr>\n",
       "    <tr>\n",
       "      <th>Oceania</th>\n",
       "      <td>73.6650</td>\n",
       "      <td>6403491.5</td>\n",
       "      <td>17983.303955</td>\n",
       "      <td>Median</td>\n",
       "    </tr>\n",
       "  </tbody>\n",
       "</table>\n",
       "</div>"
      ],
      "text/plain": [
       "           lifeExp         pop     gdpPercap Variable\n",
       "continent                                            \n",
       "Africa     47.7920   4579311.0   1192.138217   Median\n",
       "Americas   67.0480   6227510.0   5465.509853   Median\n",
       "Asia       61.7915  14530830.5   2646.786844   Median\n",
       "Europe     72.2410   8551125.0  12081.749115   Median\n",
       "Oceania    73.6650   6403491.5  17983.303955   Median"
      ]
     },
     "execution_count": 33,
     "metadata": {},
     "output_type": "execute_result"
    }
   ],
   "source": [
    "df_median = df.groupby('continent')[['lifeExp', 'pop', 'gdpPercap']].median()\n",
    "df_median['Variable'] = 'Median'\n",
    "df_median"
   ]
  },
  {
   "cell_type": "code",
   "execution_count": 34,
   "id": "003a16ab-9dbd-4183-ba5a-97c9f0552e51",
   "metadata": {},
   "outputs": [
    {
     "data": {
      "text/html": [
       "<div>\n",
       "<style scoped>\n",
       "    .dataframe tbody tr th:only-of-type {\n",
       "        vertical-align: middle;\n",
       "    }\n",
       "\n",
       "    .dataframe tbody tr th {\n",
       "        vertical-align: top;\n",
       "    }\n",
       "\n",
       "    .dataframe thead th {\n",
       "        text-align: right;\n",
       "    }\n",
       "</style>\n",
       "<table border=\"1\" class=\"dataframe\">\n",
       "  <thead>\n",
       "    <tr style=\"text-align: right;\">\n",
       "      <th></th>\n",
       "      <th>lifeExp</th>\n",
       "      <th>pop</th>\n",
       "      <th>gdpPercap</th>\n",
       "      <th>Variable</th>\n",
       "    </tr>\n",
       "    <tr>\n",
       "      <th>continent</th>\n",
       "      <th></th>\n",
       "      <th></th>\n",
       "      <th></th>\n",
       "      <th></th>\n",
       "    </tr>\n",
       "  </thead>\n",
       "  <tbody>\n",
       "    <tr>\n",
       "      <th>Africa</th>\n",
       "      <td>23.599</td>\n",
       "      <td>60011</td>\n",
       "      <td>241.165876</td>\n",
       "      <td>Minimum</td>\n",
       "    </tr>\n",
       "    <tr>\n",
       "      <th>Americas</th>\n",
       "      <td>37.579</td>\n",
       "      <td>662850</td>\n",
       "      <td>1201.637154</td>\n",
       "      <td>Minimum</td>\n",
       "    </tr>\n",
       "    <tr>\n",
       "      <th>Asia</th>\n",
       "      <td>28.801</td>\n",
       "      <td>120447</td>\n",
       "      <td>331.000000</td>\n",
       "      <td>Minimum</td>\n",
       "    </tr>\n",
       "    <tr>\n",
       "      <th>Europe</th>\n",
       "      <td>43.585</td>\n",
       "      <td>147962</td>\n",
       "      <td>973.533195</td>\n",
       "      <td>Minimum</td>\n",
       "    </tr>\n",
       "    <tr>\n",
       "      <th>Oceania</th>\n",
       "      <td>69.120</td>\n",
       "      <td>1994794</td>\n",
       "      <td>10039.595640</td>\n",
       "      <td>Minimum</td>\n",
       "    </tr>\n",
       "  </tbody>\n",
       "</table>\n",
       "</div>"
      ],
      "text/plain": [
       "           lifeExp      pop     gdpPercap Variable\n",
       "continent                                         \n",
       "Africa      23.599    60011    241.165876  Minimum\n",
       "Americas    37.579   662850   1201.637154  Minimum\n",
       "Asia        28.801   120447    331.000000  Minimum\n",
       "Europe      43.585   147962    973.533195  Minimum\n",
       "Oceania     69.120  1994794  10039.595640  Minimum"
      ]
     },
     "execution_count": 34,
     "metadata": {},
     "output_type": "execute_result"
    }
   ],
   "source": [
    "df_min = df.groupby('continent')[['lifeExp', 'pop', 'gdpPercap']].min()\n",
    "df_min['Variable'] = 'Minimum'\n",
    "df_min"
   ]
  },
  {
   "cell_type": "code",
   "execution_count": 35,
   "id": "3c427c7f-853e-406a-be6b-ac56e3ef7103",
   "metadata": {},
   "outputs": [
    {
     "data": {
      "text/html": [
       "<div>\n",
       "<style scoped>\n",
       "    .dataframe tbody tr th:only-of-type {\n",
       "        vertical-align: middle;\n",
       "    }\n",
       "\n",
       "    .dataframe tbody tr th {\n",
       "        vertical-align: top;\n",
       "    }\n",
       "\n",
       "    .dataframe thead th {\n",
       "        text-align: right;\n",
       "    }\n",
       "</style>\n",
       "<table border=\"1\" class=\"dataframe\">\n",
       "  <thead>\n",
       "    <tr style=\"text-align: right;\">\n",
       "      <th></th>\n",
       "      <th>lifeExp</th>\n",
       "      <th>pop</th>\n",
       "      <th>gdpPercap</th>\n",
       "      <th>Variable</th>\n",
       "    </tr>\n",
       "    <tr>\n",
       "      <th>continent</th>\n",
       "      <th></th>\n",
       "      <th></th>\n",
       "      <th></th>\n",
       "      <th></th>\n",
       "    </tr>\n",
       "  </thead>\n",
       "  <tbody>\n",
       "    <tr>\n",
       "      <th>Africa</th>\n",
       "      <td>76.442</td>\n",
       "      <td>135031164</td>\n",
       "      <td>21951.21176</td>\n",
       "      <td>Maximum</td>\n",
       "    </tr>\n",
       "    <tr>\n",
       "      <th>Americas</th>\n",
       "      <td>80.653</td>\n",
       "      <td>301139947</td>\n",
       "      <td>42951.65309</td>\n",
       "      <td>Maximum</td>\n",
       "    </tr>\n",
       "    <tr>\n",
       "      <th>Asia</th>\n",
       "      <td>82.603</td>\n",
       "      <td>1318683096</td>\n",
       "      <td>113523.13290</td>\n",
       "      <td>Maximum</td>\n",
       "    </tr>\n",
       "    <tr>\n",
       "      <th>Europe</th>\n",
       "      <td>81.757</td>\n",
       "      <td>82400996</td>\n",
       "      <td>49357.19017</td>\n",
       "      <td>Maximum</td>\n",
       "    </tr>\n",
       "    <tr>\n",
       "      <th>Oceania</th>\n",
       "      <td>81.235</td>\n",
       "      <td>20434176</td>\n",
       "      <td>34435.36744</td>\n",
       "      <td>Maximum</td>\n",
       "    </tr>\n",
       "  </tbody>\n",
       "</table>\n",
       "</div>"
      ],
      "text/plain": [
       "           lifeExp         pop     gdpPercap Variable\n",
       "continent                                            \n",
       "Africa      76.442   135031164   21951.21176  Maximum\n",
       "Americas    80.653   301139947   42951.65309  Maximum\n",
       "Asia        82.603  1318683096  113523.13290  Maximum\n",
       "Europe      81.757    82400996   49357.19017  Maximum\n",
       "Oceania     81.235    20434176   34435.36744  Maximum"
      ]
     },
     "execution_count": 35,
     "metadata": {},
     "output_type": "execute_result"
    }
   ],
   "source": [
    "df_max = df.groupby('continent')[['lifeExp', 'pop', 'gdpPercap']].max()\n",
    "df_max['Variable'] = 'Maximum'\n",
    "df_max"
   ]
  },
  {
   "cell_type": "code",
   "execution_count": 37,
   "id": "38b75971-d683-4626-b4fd-b99fe303cfe1",
   "metadata": {},
   "outputs": [
    {
     "data": {
      "text/html": [
       "<div>\n",
       "<style scoped>\n",
       "    .dataframe tbody tr th:only-of-type {\n",
       "        vertical-align: middle;\n",
       "    }\n",
       "\n",
       "    .dataframe tbody tr th {\n",
       "        vertical-align: top;\n",
       "    }\n",
       "\n",
       "    .dataframe thead th {\n",
       "        text-align: right;\n",
       "    }\n",
       "</style>\n",
       "<table border=\"1\" class=\"dataframe\">\n",
       "  <thead>\n",
       "    <tr style=\"text-align: right;\">\n",
       "      <th></th>\n",
       "      <th>continent</th>\n",
       "      <th>lifeExp</th>\n",
       "      <th>pop</th>\n",
       "      <th>gdpPercap</th>\n",
       "      <th>Variable</th>\n",
       "    </tr>\n",
       "  </thead>\n",
       "  <tbody>\n",
       "    <tr>\n",
       "      <th>0</th>\n",
       "      <td>Africa</td>\n",
       "      <td>48.865330</td>\n",
       "      <td>9.916003e+06</td>\n",
       "      <td>2193.754578</td>\n",
       "      <td>Mean</td>\n",
       "    </tr>\n",
       "    <tr>\n",
       "      <th>1</th>\n",
       "      <td>Americas</td>\n",
       "      <td>64.658737</td>\n",
       "      <td>2.450479e+07</td>\n",
       "      <td>7136.110356</td>\n",
       "      <td>Mean</td>\n",
       "    </tr>\n",
       "    <tr>\n",
       "      <th>2</th>\n",
       "      <td>Asia</td>\n",
       "      <td>60.064903</td>\n",
       "      <td>7.703872e+07</td>\n",
       "      <td>7902.150428</td>\n",
       "      <td>Mean</td>\n",
       "    </tr>\n",
       "    <tr>\n",
       "      <th>3</th>\n",
       "      <td>Europe</td>\n",
       "      <td>71.903686</td>\n",
       "      <td>1.716976e+07</td>\n",
       "      <td>14469.475533</td>\n",
       "      <td>Mean</td>\n",
       "    </tr>\n",
       "    <tr>\n",
       "      <th>4</th>\n",
       "      <td>Oceania</td>\n",
       "      <td>74.326208</td>\n",
       "      <td>8.874672e+06</td>\n",
       "      <td>18621.609223</td>\n",
       "      <td>Mean</td>\n",
       "    </tr>\n",
       "    <tr>\n",
       "      <th>5</th>\n",
       "      <td>Africa</td>\n",
       "      <td>47.792000</td>\n",
       "      <td>4.579311e+06</td>\n",
       "      <td>1192.138217</td>\n",
       "      <td>Median</td>\n",
       "    </tr>\n",
       "    <tr>\n",
       "      <th>6</th>\n",
       "      <td>Americas</td>\n",
       "      <td>67.048000</td>\n",
       "      <td>6.227510e+06</td>\n",
       "      <td>5465.509853</td>\n",
       "      <td>Median</td>\n",
       "    </tr>\n",
       "    <tr>\n",
       "      <th>7</th>\n",
       "      <td>Asia</td>\n",
       "      <td>61.791500</td>\n",
       "      <td>1.453083e+07</td>\n",
       "      <td>2646.786844</td>\n",
       "      <td>Median</td>\n",
       "    </tr>\n",
       "    <tr>\n",
       "      <th>8</th>\n",
       "      <td>Europe</td>\n",
       "      <td>72.241000</td>\n",
       "      <td>8.551125e+06</td>\n",
       "      <td>12081.749115</td>\n",
       "      <td>Median</td>\n",
       "    </tr>\n",
       "    <tr>\n",
       "      <th>9</th>\n",
       "      <td>Oceania</td>\n",
       "      <td>73.665000</td>\n",
       "      <td>6.403492e+06</td>\n",
       "      <td>17983.303955</td>\n",
       "      <td>Median</td>\n",
       "    </tr>\n",
       "    <tr>\n",
       "      <th>10</th>\n",
       "      <td>Africa</td>\n",
       "      <td>76.442000</td>\n",
       "      <td>1.350312e+08</td>\n",
       "      <td>21951.211760</td>\n",
       "      <td>Maximum</td>\n",
       "    </tr>\n",
       "    <tr>\n",
       "      <th>11</th>\n",
       "      <td>Americas</td>\n",
       "      <td>80.653000</td>\n",
       "      <td>3.011399e+08</td>\n",
       "      <td>42951.653090</td>\n",
       "      <td>Maximum</td>\n",
       "    </tr>\n",
       "    <tr>\n",
       "      <th>12</th>\n",
       "      <td>Asia</td>\n",
       "      <td>82.603000</td>\n",
       "      <td>1.318683e+09</td>\n",
       "      <td>113523.132900</td>\n",
       "      <td>Maximum</td>\n",
       "    </tr>\n",
       "    <tr>\n",
       "      <th>13</th>\n",
       "      <td>Europe</td>\n",
       "      <td>81.757000</td>\n",
       "      <td>8.240100e+07</td>\n",
       "      <td>49357.190170</td>\n",
       "      <td>Maximum</td>\n",
       "    </tr>\n",
       "    <tr>\n",
       "      <th>14</th>\n",
       "      <td>Oceania</td>\n",
       "      <td>81.235000</td>\n",
       "      <td>2.043418e+07</td>\n",
       "      <td>34435.367440</td>\n",
       "      <td>Maximum</td>\n",
       "    </tr>\n",
       "    <tr>\n",
       "      <th>15</th>\n",
       "      <td>Africa</td>\n",
       "      <td>23.599000</td>\n",
       "      <td>6.001100e+04</td>\n",
       "      <td>241.165876</td>\n",
       "      <td>Minimum</td>\n",
       "    </tr>\n",
       "    <tr>\n",
       "      <th>16</th>\n",
       "      <td>Americas</td>\n",
       "      <td>37.579000</td>\n",
       "      <td>6.628500e+05</td>\n",
       "      <td>1201.637154</td>\n",
       "      <td>Minimum</td>\n",
       "    </tr>\n",
       "    <tr>\n",
       "      <th>17</th>\n",
       "      <td>Asia</td>\n",
       "      <td>28.801000</td>\n",
       "      <td>1.204470e+05</td>\n",
       "      <td>331.000000</td>\n",
       "      <td>Minimum</td>\n",
       "    </tr>\n",
       "    <tr>\n",
       "      <th>18</th>\n",
       "      <td>Europe</td>\n",
       "      <td>43.585000</td>\n",
       "      <td>1.479620e+05</td>\n",
       "      <td>973.533195</td>\n",
       "      <td>Minimum</td>\n",
       "    </tr>\n",
       "    <tr>\n",
       "      <th>19</th>\n",
       "      <td>Oceania</td>\n",
       "      <td>69.120000</td>\n",
       "      <td>1.994794e+06</td>\n",
       "      <td>10039.595640</td>\n",
       "      <td>Minimum</td>\n",
       "    </tr>\n",
       "  </tbody>\n",
       "</table>\n",
       "</div>"
      ],
      "text/plain": [
       "   continent    lifeExp           pop      gdpPercap Variable\n",
       "0     Africa  48.865330  9.916003e+06    2193.754578     Mean\n",
       "1   Americas  64.658737  2.450479e+07    7136.110356     Mean\n",
       "2       Asia  60.064903  7.703872e+07    7902.150428     Mean\n",
       "3     Europe  71.903686  1.716976e+07   14469.475533     Mean\n",
       "4    Oceania  74.326208  8.874672e+06   18621.609223     Mean\n",
       "5     Africa  47.792000  4.579311e+06    1192.138217   Median\n",
       "6   Americas  67.048000  6.227510e+06    5465.509853   Median\n",
       "7       Asia  61.791500  1.453083e+07    2646.786844   Median\n",
       "8     Europe  72.241000  8.551125e+06   12081.749115   Median\n",
       "9    Oceania  73.665000  6.403492e+06   17983.303955   Median\n",
       "10    Africa  76.442000  1.350312e+08   21951.211760  Maximum\n",
       "11  Americas  80.653000  3.011399e+08   42951.653090  Maximum\n",
       "12      Asia  82.603000  1.318683e+09  113523.132900  Maximum\n",
       "13    Europe  81.757000  8.240100e+07   49357.190170  Maximum\n",
       "14   Oceania  81.235000  2.043418e+07   34435.367440  Maximum\n",
       "15    Africa  23.599000  6.001100e+04     241.165876  Minimum\n",
       "16  Americas  37.579000  6.628500e+05    1201.637154  Minimum\n",
       "17      Asia  28.801000  1.204470e+05     331.000000  Minimum\n",
       "18    Europe  43.585000  1.479620e+05     973.533195  Minimum\n",
       "19   Oceania  69.120000  1.994794e+06   10039.595640  Minimum"
      ]
     },
     "execution_count": 37,
     "metadata": {},
     "output_type": "execute_result"
    }
   ],
   "source": [
    "df_summary = pd.concat([df_mean, df_median, df_max, df_min], axis = 0).reset_index()\n",
    "df_summary"
   ]
  }
 ],
 "metadata": {
  "kernelspec": {
   "display_name": "Python 3 (ipykernel)",
   "language": "python",
   "name": "python3"
  },
  "language_info": {
   "codemirror_mode": {
    "name": "ipython",
    "version": 3
   },
   "file_extension": ".py",
   "mimetype": "text/x-python",
   "name": "python",
   "nbconvert_exporter": "python",
   "pygments_lexer": "ipython3",
   "version": "3.11.11"
  }
 },
 "nbformat": 4,
 "nbformat_minor": 5
}
