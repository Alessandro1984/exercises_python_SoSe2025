{
 "cells": [
  {
   "cell_type": "code",
   "execution_count": 8,
   "id": "78f95bee-48ce-4639-83e6-a99a932c3125",
   "metadata": {},
   "outputs": [
    {
     "name": "stdout",
     "output_type": "stream",
     "text": [
      "200\n"
     ]
    },
    {
     "data": {
      "text/plain": [
       "90.70294784580499"
      ]
     },
     "execution_count": 8,
     "metadata": {},
     "output_type": "execute_result"
    }
   ],
   "source": [
    "pounds = 2.205\n",
    "kg = 200\n",
    "print(kg)\n",
    "result = kg/pounds\n",
    "result"
   ]
  },
  {
   "cell_type": "code",
   "execution_count": 10,
   "id": "4143055d-a794-40f2-b1fd-3c5ad21e9830",
   "metadata": {},
   "outputs": [
    {
     "ename": "ValueError",
     "evalue": "could not convert string to float: 'Hallo'",
     "output_type": "error",
     "traceback": [
      "\u001b[1;31m---------------------------------------------------------------------------\u001b[0m",
      "\u001b[1;31mValueError\u001b[0m                                Traceback (most recent call last)",
      "Cell \u001b[1;32mIn[10], line 2\u001b[0m\n\u001b[0;32m      1\u001b[0m x \u001b[38;5;241m=\u001b[39m \u001b[38;5;124m\"\u001b[39m\u001b[38;5;124mHallo\u001b[39m\u001b[38;5;124m\"\u001b[39m\n\u001b[1;32m----> 2\u001b[0m \u001b[38;5;28mfloat\u001b[39m(x)\n",
      "\u001b[1;31mValueError\u001b[0m: could not convert string to float: 'Hallo'"
     ]
    }
   ],
   "source": [
    "x = \"Hallo\"\n",
    "float(x)"
   ]
  },
  {
   "cell_type": "code",
   "execution_count": 13,
   "id": "95172c27-e3bd-45f2-af18-5c084040039d",
   "metadata": {},
   "outputs": [
    {
     "data": {
      "text/plain": [
       "3.999"
      ]
     },
     "execution_count": 13,
     "metadata": {},
     "output_type": "execute_result"
    }
   ],
   "source": [
    "y = '3.999'\n",
    "float(y)"
   ]
  },
  {
   "cell_type": "code",
   "execution_count": 16,
   "id": "f7f3dccb-0a07-4524-a8e8-a8aec0026802",
   "metadata": {},
   "outputs": [
    {
     "data": {
      "text/plain": [
       "3.0"
      ]
     },
     "execution_count": 16,
     "metadata": {},
     "output_type": "execute_result"
    }
   ],
   "source": [
    "z = 3\n",
    "float(z)"
   ]
  },
  {
   "cell_type": "code",
   "execution_count": 17,
   "id": "e0f148d9-0b5b-4afe-a89a-43e5acd37e12",
   "metadata": {},
   "outputs": [
    {
     "data": {
      "text/plain": [
       "3"
      ]
     },
     "execution_count": 17,
     "metadata": {},
     "output_type": "execute_result"
    }
   ],
   "source": [
    "u = 3.5\n",
    "int(u)"
   ]
  },
  {
   "cell_type": "code",
   "execution_count": 18,
   "id": "59bb0ddf-feea-48bd-826e-e7f95d33b0d8",
   "metadata": {},
   "outputs": [
    {
     "data": {
      "text/plain": [
       "'3.5'"
      ]
     },
     "execution_count": 18,
     "metadata": {},
     "output_type": "execute_result"
    }
   ],
   "source": [
    "p = 3.5\n",
    "str(p)"
   ]
  },
  {
   "cell_type": "code",
   "execution_count": 19,
   "id": "98bbd15c-925f-4564-8b41-d05e49e12846",
   "metadata": {},
   "outputs": [
    {
     "data": {
      "text/plain": [
       "100"
      ]
     },
     "execution_count": 19,
     "metadata": {},
     "output_type": "execute_result"
    }
   ],
   "source": [
    "(2*5)**(1+1)"
   ]
  },
  {
   "cell_type": "code",
   "execution_count": 20,
   "id": "67d00694-aede-4af7-a9c8-04ec571c9f1d",
   "metadata": {},
   "outputs": [
    {
     "data": {
      "text/plain": [
       "81"
      ]
     },
     "execution_count": 20,
     "metadata": {},
     "output_type": "execute_result"
    }
   ],
   "source": [
    "3**2**2"
   ]
  },
  {
   "cell_type": "code",
   "execution_count": 21,
   "id": "752b6f95-f768-4cb1-98b0-f4d22c11e39f",
   "metadata": {},
   "outputs": [
    {
     "data": {
      "text/plain": [
       "0.01"
      ]
     },
     "execution_count": 21,
     "metadata": {},
     "output_type": "execute_result"
    }
   ],
   "source": [
    "1/((2*5)**(1+1))"
   ]
  },
  {
   "cell_type": "code",
   "execution_count": 22,
   "id": "29b8a8f7-1b05-47c7-95ea-e7efb72ccb16",
   "metadata": {},
   "outputs": [
    {
     "data": {
      "text/plain": [
       "0.01"
      ]
     },
     "execution_count": 22,
     "metadata": {},
     "output_type": "execute_result"
    }
   ],
   "source": [
    "1/(2*5)**(1+1)"
   ]
  },
  {
   "cell_type": "code",
   "execution_count": 23,
   "id": "d12dd4ab-7227-4e38-bf32-6089738ffd9c",
   "metadata": {},
   "outputs": [
    {
     "data": {
      "text/plain": [
       "134.39163793441222"
      ]
     },
     "execution_count": 23,
     "metadata": {},
     "output_type": "execute_result"
    }
   ],
   "source": [
    "P = 100\n",
    "t = 10\n",
    "i = 0.03\n",
    "\n",
    "A = 100 * (1 + i)**t\n",
    "A"
   ]
  },
  {
   "cell_type": "code",
   "execution_count": 24,
   "id": "6f2961a1-4c6d-40c6-a332-3732214daafd",
   "metadata": {},
   "outputs": [
    {
     "data": {
      "text/plain": [
       "2.7182792426663553"
      ]
     },
     "execution_count": 24,
     "metadata": {},
     "output_type": "execute_result"
    }
   ],
   "source": [
    "P = 1\n",
    "t = 1\n",
    "i = 1\n",
    "n = 60 * 24 * 365\n",
    "\n",
    "A = P * (1 + i/n)**(t * n)\n",
    "A"
   ]
  },
  {
   "cell_type": "code",
   "execution_count": 25,
   "id": "2e06a2d9-dd6b-483c-8873-74ec558bb855",
   "metadata": {},
   "outputs": [],
   "source": [
    "from math import exp"
   ]
  },
  {
   "cell_type": "code",
   "execution_count": 27,
   "id": "bbbd78c3-66fc-47a3-a57a-d854f73f0fbc",
   "metadata": {},
   "outputs": [
    {
     "data": {
      "text/plain": [
       "7.3890560989306495"
      ]
     },
     "execution_count": 27,
     "metadata": {},
     "output_type": "execute_result"
    }
   ],
   "source": [
    "zahl = exp(1)\n",
    "zahl * zahl"
   ]
  },
  {
   "cell_type": "code",
   "execution_count": 28,
   "id": "86f58c4d-ed97-4eac-9b49-74b4729b64e3",
   "metadata": {},
   "outputs": [],
   "source": [
    "from math import pi"
   ]
  },
  {
   "cell_type": "code",
   "execution_count": 29,
   "id": "13a29f3b-67fc-409e-a257-c387e1d272b2",
   "metadata": {},
   "outputs": [
    {
     "data": {
      "text/plain": [
       "3.141592653589793"
      ]
     },
     "execution_count": 29,
     "metadata": {},
     "output_type": "execute_result"
    }
   ],
   "source": [
    "r = 1\n",
    "F = pi * r**2\n",
    "F"
   ]
  },
  {
   "cell_type": "code",
   "execution_count": 31,
   "id": "c26fd20a-bd4c-4be4-961d-05f9560cb2b2",
   "metadata": {},
   "outputs": [
    {
     "data": {
      "text/plain": [
       "2.718281828459045"
      ]
     },
     "execution_count": 31,
     "metadata": {},
     "output_type": "execute_result"
    }
   ],
   "source": [
    "P = 1\n",
    "i = 1\n",
    "t = 1\n",
    "A = P*exp((i*t))\n",
    "A"
   ]
  }
 ],
 "metadata": {
  "kernelspec": {
   "display_name": "Python 3 (ipykernel)",
   "language": "python",
   "name": "python3"
  },
  "language_info": {
   "codemirror_mode": {
    "name": "ipython",
    "version": 3
   },
   "file_extension": ".py",
   "mimetype": "text/x-python",
   "name": "python",
   "nbconvert_exporter": "python",
   "pygments_lexer": "ipython3",
   "version": "3.11.11"
  }
 },
 "nbformat": 4,
 "nbformat_minor": 5
}
